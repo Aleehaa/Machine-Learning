{
  "nbformat": 4,
  "nbformat_minor": 0,
  "metadata": {
    "colab": {
      "provenance": []
    },
    "kernelspec": {
      "name": "python3",
      "display_name": "Python 3"
    },
    "language_info": {
      "name": "python"
    }
  },
  "cells": [
    {
      "cell_type": "code",
      "execution_count": null,
      "metadata": {
        "colab": {
          "base_uri": "https://localhost:8080/"
        },
        "id": "DhweDN4qzc4O",
        "outputId": "3062b260-d174-40d7-f5a7-3426a7baf9b1"
      },
      "outputs": [
        {
          "output_type": "stream",
          "name": "stdout",
          "text": [
            "\u001b[1m1/1\u001b[0m \u001b[32m━━━━━━━━━━━━━━━━━━━━\u001b[0m\u001b[37m\u001b[0m \u001b[1m1s\u001b[0m 736ms/step\n",
            "This is a tabby with 84.51% confidence.\n"
          ]
        }
      ],
      "source": [
        "import tensorflow as tf\n",
        "from tensorflow.keras.applications import MobileNet\n",
        "from tensorflow.keras.applications.mobilenet import preprocess_input, decode_predictions\n",
        "import numpy as np\n",
        "from PIL import Image\n",
        "import requests\n",
        "from io import BytesIO\n",
        "\n",
        "# Step 1: Load the pre-trained MobileNet model\n",
        "model = MobileNet(weights='imagenet')\n",
        "\n",
        "# Step 2: Define the image URL and load the image\n",
        "image_url = 'https://encrypted-tbn0.gstatic.com/images?q=tbn:ANd9GcRDCsqRYLAFDdL4Ix_AHai7kNVyoPV9Ssv1xg&s'\n",
        "\n",
        "try:\n",
        "    # Download the image from the URL\n",
        "    response = requests.get(image_url, stream=True)\n",
        "    response.raise_for_status()  # Ensure the request was successful\n",
        "    # Open the image and resize it to 224x224 pixels (required by MobileNet)\n",
        "    image = Image.open(BytesIO(response.content)).resize((224, 224))\n",
        "except Exception as e:\n",
        "    print(f\"Error loading the image: {e}\")\n",
        "    exit()\n",
        "\n",
        "# Step 3: Preprocess the image\n",
        "# Convert the image to a NumPy array\n",
        "image_array = np.array(image)\n",
        "\n",
        "# Preprocess the image for MobileNet\n",
        "image_array = preprocess_input(image_array)\n",
        "\n",
        "# Add a batch dimension (MobileNet expects inputs in batches)\n",
        "image_array = np.expand_dims(image_array, axis=0)\n",
        "\n",
        "# Step 4: Perform inference using the model\n",
        "predictions = model.predict(image_array)\n",
        "\n",
        "# Step 5: Decode the predictions to get human-readable labels\n",
        "decoded_predictions = decode_predictions(predictions, top=1)[0]\n",
        "\n",
        "# Step 6: Display the result\n",
        "for _, label, confidence in decoded_predictions:\n",
        "    print(f\"This is a {label} with {confidence * 100:.2f}% confidence.\")\n"
      ]
    }
  ]
}